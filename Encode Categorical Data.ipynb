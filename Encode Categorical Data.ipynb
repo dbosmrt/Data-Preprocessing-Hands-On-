{
 "cells": [
  {
   "cell_type": "markdown",
   "id": "b96ef0dc-07b2-4c5d-b110-ff62bfdcc0d7",
   "metadata": {},
   "source": [
    "## How to encode categorical Data\n",
    "Most of the machine learning model requires numerical data, it means if your data is categorical then it would be required to convert that into numerical data. The popular techniques are Ordinal encoding and One Hot Endocing.\n",
    "\n",
    "Nominal Variable: Variable comprises of fininte set of dicrite values with no rank- order relationship between values.\n",
    "\n",
    "Ordinal Variable: Variable comprieses a fininte set of discrete values with a ranked ordering between values.\n",
    "\n",
    "Some algorithm can directly work with the categorical data itself. "
   ]
  },
  {
   "cell_type": "code",
   "execution_count": null,
   "id": "9a8e5e23-3305-4724-a70f-6844a6f56f74",
   "metadata": {},
   "outputs": [],
   "source": [
    "import numpy as np\n",
    "from sklearn.preprocessing import OrdinalEncoder\n",
    "data = np.asarray([['red'],['green'],['blue']])\n",
    "print(data)\n",
    "encoder = OrdinalEncoder()\n",
    "new = encoder.fit_transform(data)\n",
    "print(new)"
   ]
  },
  {
   "cell_type": "markdown",
   "id": "1abd0212-e685-4110-911f-162505c0d14b",
   "metadata": {},
   "source": [
    "#### One Hot Endcoding"
   ]
  },
  {
   "cell_type": "code",
   "execution_count": null,
   "id": "a47f59dd-f8a5-45b5-970d-542ae0f8e5b9",
   "metadata": {},
   "outputs": [],
   "source": [
    "import numpy as np\n",
    "from sklearn.preprocessing import OneHotEncoder\n",
    "data_1 = np.asarray([['Red'],['Green'],['Blue']])\n",
    "print(data_1)\n",
    "encoder_1 = OneHotEncoder()\n",
    "new_1 = encoder_1.fit_transform(data_1)\n",
    "print(new_1)"
   ]
  }
 ],
 "metadata": {
  "kernelspec": {
   "display_name": "Python 3 (ipykernel)",
   "language": "python",
   "name": "python3"
  },
  "language_info": {
   "codemirror_mode": {
    "name": "ipython",
    "version": 3
   },
   "file_extension": ".py",
   "mimetype": "text/x-python",
   "name": "python",
   "nbconvert_exporter": "python",
   "pygments_lexer": "ipython3",
   "version": "3.12.4"
  }
 },
 "nbformat": 4,
 "nbformat_minor": 5
}
