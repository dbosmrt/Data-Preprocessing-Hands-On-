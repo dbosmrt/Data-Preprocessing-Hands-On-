{
 "cells": [
  {
   "cell_type": "markdown",
   "id": "ef0805d2-ed56-4ace-aca6-c2e0f100aad9",
   "metadata": {},
   "source": [
    "# Terminologies\n",
    "\n",
    "### Tokenization\n",
    "1. Breaking a complex sentence into words\n",
    "2. Understand the importance of each of the words with respect to the sentence.\n",
    "3. Produce a structural description on an input sentence.\n",
    "\n"
   ]
  },
  {
   "cell_type": "code",
   "execution_count": 9,
   "id": "155f6821-9b09-4068-a265-3e392c9c0b99",
   "metadata": {},
   "outputs": [],
   "source": [
    "import os \n",
    "import nltk\n",
    "import nltk.corpus"
   ]
  },
  {
   "cell_type": "code",
   "execution_count": 27,
   "id": "8aefc1da-4157-45b2-b98a-0f0b110209e1",
   "metadata": {},
   "outputs": [
    {
     "name": "stdout",
     "output_type": "stream",
     "text": [
      "['abc', 'abc.zip', 'alpino', 'alpino.zip', 'bcp47.zip', 'biocreative_ppi', 'biocreative_ppi.zip', 'brown', 'brown.zip', 'brown_tei', 'brown_tei.zip', 'cess_cat', 'cess_cat.zip', 'cess_esp', 'cess_esp.zip', 'chat80', 'chat80.zip', 'city_database', 'city_database.zip', 'cmudict', 'cmudict.zip', 'comparative_sentences', 'comparative_sentences.zip', 'comtrans.zip', 'conll2000', 'conll2000.zip', 'conll2002', 'conll2002.zip', 'conll2007.zip', 'crubadan', 'crubadan.zip', 'dependency_treebank', 'dependency_treebank.zip', 'dolch', 'dolch.zip', 'english_wordnet', 'english_wordnet.zip', 'europarl_raw', 'europarl_raw.zip', 'extended_omw.zip', 'floresta', 'floresta.zip', 'framenet_v15', 'framenet_v15.zip', 'framenet_v17', 'framenet_v17.zip', 'gazetteers', 'gazetteers.zip', 'genesis', 'genesis.zip', 'gutenberg', 'gutenberg.zip', 'ieer', 'ieer.zip', 'inaugural', 'inaugural.zip', 'indian', 'indian.zip', 'jeita.zip', 'kimmo', 'kimmo.zip', 'knbc.zip', 'lin_thesaurus', 'lin_thesaurus.zip', 'machado.zip', 'mac_morpho', 'mac_morpho.zip', 'masc_tagged.zip', 'mock_corpus.zip', 'movie_reviews', 'movie_reviews.zip', 'mte_teip5', 'mte_teip5.zip', 'names', 'names.zip', 'nombank.1.0.zip', 'nonbreaking_prefixes', 'nonbreaking_prefixes.zip', 'nps_chat', 'nps_chat.zip', 'omw-1.4.zip', 'omw.zip', 'opinion_lexicon', 'opinion_lexicon.zip', 'panlex_swadesh.zip', 'paradigms', 'paradigms.zip', 'pe08', 'pe08.zip', 'pil', 'pil.zip', 'pl196x', 'pl196x.zip', 'ppattach', 'ppattach.zip', 'problem_reports', 'problem_reports.zip', 'product_reviews_1', 'product_reviews_1.zip', 'product_reviews_2', 'product_reviews_2.zip', 'propbank.zip', 'pros_cons', 'pros_cons.zip', 'ptb', 'ptb.zip', 'qc', 'qc.zip', 'reuters.zip', 'rte', 'rte.zip', 'semcor.zip', 'senseval', 'senseval.zip', 'sentence_polarity', 'sentence_polarity.zip', 'sentiwordnet', 'sentiwordnet.zip', 'shakespeare', 'shakespeare.zip', 'sinica_treebank', 'sinica_treebank.zip', 'smultron', 'smultron.zip', 'state_union', 'state_union.zip', 'stopwords', 'stopwords.zip', 'subjectivity', 'subjectivity.zip', 'swadesh', 'swadesh.zip', 'switchboard', 'switchboard.zip', 'timit', 'timit.zip', 'toolbox', 'toolbox.zip', 'treebank', 'treebank.zip', 'twitter_samples', 'twitter_samples.zip', 'udhr', 'udhr.zip', 'udhr2', 'udhr2.zip', 'unicode_samples', 'unicode_samples.zip', 'universal_treebanks_v20.zip', 'verbnet', 'verbnet.zip', 'verbnet3', 'verbnet3.zip', 'webtext', 'webtext.zip', 'wordnet.zip', 'wordnet2021.zip', 'wordnet2022', 'wordnet2022.zip', 'wordnet31.zip', 'wordnet_ic', 'wordnet_ic.zip', 'words', 'words.zip', 'ycoe', 'ycoe.zip']\n"
     ]
    }
   ],
   "source": [
    "print(os.listdir(nltk.data.find(\"corpora\")))"
   ]
  },
  {
   "cell_type": "code",
   "execution_count": 29,
   "id": "f02ecb1c-c8f6-4d1d-a7a7-67dd03b48908",
   "metadata": {},
   "outputs": [
    {
     "data": {
      "text/plain": [
       "['The', 'Fulton', 'County', 'Grand', 'Jury', 'said', ...]"
      ]
     },
     "execution_count": 29,
     "metadata": {},
     "output_type": "execute_result"
    }
   ],
   "source": [
    "from nltk.corpus import brown\n",
    "brown.words()"
   ]
  },
  {
   "cell_type": "code",
   "execution_count": 31,
   "id": "f6eec360-3322-4489-a7fa-0b1f94e6f386",
   "metadata": {},
   "outputs": [
    {
     "data": {
      "text/plain": [
       "['austen-emma.txt',\n",
       " 'austen-persuasion.txt',\n",
       " 'austen-sense.txt',\n",
       " 'bible-kjv.txt',\n",
       " 'blake-poems.txt',\n",
       " 'bryant-stories.txt',\n",
       " 'burgess-busterbrown.txt',\n",
       " 'carroll-alice.txt',\n",
       " 'chesterton-ball.txt',\n",
       " 'chesterton-brown.txt',\n",
       " 'chesterton-thursday.txt',\n",
       " 'edgeworth-parents.txt',\n",
       " 'melville-moby_dick.txt',\n",
       " 'milton-paradise.txt',\n",
       " 'shakespeare-caesar.txt',\n",
       " 'shakespeare-hamlet.txt',\n",
       " 'shakespeare-macbeth.txt',\n",
       " 'whitman-leaves.txt']"
      ]
     },
     "execution_count": 31,
     "metadata": {},
     "output_type": "execute_result"
    }
   ],
   "source": [
    "nltk.corpus.gutenberg.fileids()"
   ]
  },
  {
   "cell_type": "code",
   "execution_count": 39,
   "id": "3683ce0e-8d2e-4e67-9a6a-9d649f63deff",
   "metadata": {},
   "outputs": [
    {
     "data": {
      "text/plain": [
       "['[', 'The', 'Tragedie', 'of', 'Hamlet', 'by', ...]"
      ]
     },
     "execution_count": 39,
     "metadata": {},
     "output_type": "execute_result"
    }
   ],
   "source": [
    "hamlet = nltk.corpus.gutenberg.words('shakespeare-hamlet.txt')\n",
    "hamlet"
   ]
  },
  {
   "cell_type": "code",
   "execution_count": 41,
   "id": "8825564d-df0f-4b67-9935-7609d79de453",
   "metadata": {},
   "outputs": [
    {
     "name": "stdout",
     "output_type": "stream",
     "text": [
      "[ The Tragedie of Hamlet by William Shakespeare 1599 ] Actus Primus . Scoena Prima . Enter Barnardo and Francisco two Centinels . Barnardo . Who ' s there ? Fran . Nay answer me : Stand & vnfold your selfe Bar . Long liue the King Fran . Barnardo ? Bar . He Fran . You come most carefully vpon your houre Bar . ' Tis now strook twelue , get thee to bed Francisco Fran . For this releefe much thankes : ' Tis bitter cold , And I am sicke at heart Barn . Haue you had quiet Guard ? Fran . Not a Mouse stirring Barn . Well , goodnight . If you do meet Horatio and Marcellus , the Riuals of my Watch , bid them make hast . Enter Horatio and Marcellus . Fran . I thinke I heare them . Stand : who ' s there ? Hor . Friends to this ground Mar . And Leige - men to the Dane Fran . Giue you good night Mar . O farwel honest Soldier , who hath relieu ' d you ? Fra . Barnardo ha ' s my place : giue you goodnight . Exit Fran . Mar . Holla Barnardo Bar . Say , what is Horatio there ? Hor . A peece of him Bar . Welcome Horatio , welcome good Marcellus Mar . What , ha ' s this thing appear ' d againe to night Bar . I haue seene nothing Mar . Horatio saies , ' tis but our Fantasie , And will not let beleefe take hold of him Touching this dreaded sight , twice seene of vs , Therefore I haue intreated him along With vs , to watch the minutes of this Night , That if againe this Apparition come , He may approue our eyes , and speake to it Hor . Tush , tush , ' twill not appeare Bar . Sit downe a - while , And let vs once againe assaile your eares , That are so fortified against our Story , What we two Nights haue seene Hor . Well , sit we downe , And let vs heare Barnardo speake of this Barn . Last night of all , When yond same Starre that ' s Westward from the Pole Had made his course t ' illume that part of Heauen Where now it burnes , Marcellus and my selfe , The Bell then beating one Mar . Peace , breake thee of : Enter the Ghost . Looke where it comes againe Barn . In the same figure , like the King that ' s dead Mar . Thou art a Scholler ; speake to it Horatio Barn . Lookes it not like the King ? Marke it Horatio Hora . Most like : It harrowes me with fear & wonder Barn . It would be spoke too Mar . Question it Horatio Hor . What art "
     ]
    }
   ],
   "source": [
    "for word in hamlet[:500]:\n",
    "    print(word, sep= ' ', end= ' ')"
   ]
  },
  {
   "cell_type": "code",
   "execution_count": 43,
   "id": "be809160-54e6-44fd-a3a4-87d616c47630",
   "metadata": {},
   "outputs": [],
   "source": [
    "AI = \"\"\" Artificial Intelligence (AI) is the simulation of human-like intelligence in machines that are designed to think, learn, and make decisions. \n",
    "It combines algorithms, vast datasets, and computational power to enable systems to perform tasks such as understanding language, recognizing patterns, \n",
    "solving problems, and even creating new content. From self-driving cars to medical diagnostics, AI is transforming industries by increasing efficiency,\n",
    "accuracy, and scalability. Its rapid evolution—driven by advances in machine learning, deep learning, and natural language processing—has opened \n",
    "opportunities for innovation while also raising important ethical questions about privacy, bias, and the role of humans in decision-making.\"\"\""
   ]
  },
  {
   "cell_type": "code",
   "execution_count": 45,
   "id": "8d95c93d-b8cf-4c96-81cc-732fb1bf833b",
   "metadata": {},
   "outputs": [
    {
     "data": {
      "text/plain": [
       "str"
      ]
     },
     "execution_count": 45,
     "metadata": {},
     "output_type": "execute_result"
    }
   ],
   "source": [
    "type(AI)"
   ]
  },
  {
   "cell_type": "code",
   "execution_count": 49,
   "id": "e98fc080-14ab-494c-b0df-77cb9df893a1",
   "metadata": {},
   "outputs": [],
   "source": [
    "from nltk.tokenize import word_tokenize"
   ]
  },
  {
   "cell_type": "code",
   "execution_count": 51,
   "id": "3270d0b4-c3be-4b9d-acab-ea7fa20f34e3",
   "metadata": {},
   "outputs": [
    {
     "data": {
      "text/plain": [
       "['Artificial',\n",
       " 'Intelligence',\n",
       " '(',\n",
       " 'AI',\n",
       " ')',\n",
       " 'is',\n",
       " 'the',\n",
       " 'simulation',\n",
       " 'of',\n",
       " 'human-like',\n",
       " 'intelligence',\n",
       " 'in',\n",
       " 'machines',\n",
       " 'that',\n",
       " 'are',\n",
       " 'designed',\n",
       " 'to',\n",
       " 'think',\n",
       " ',',\n",
       " 'learn',\n",
       " ',',\n",
       " 'and',\n",
       " 'make',\n",
       " 'decisions',\n",
       " '.',\n",
       " 'It',\n",
       " 'combines',\n",
       " 'algorithms',\n",
       " ',',\n",
       " 'vast',\n",
       " 'datasets',\n",
       " ',',\n",
       " 'and',\n",
       " 'computational',\n",
       " 'power',\n",
       " 'to',\n",
       " 'enable',\n",
       " 'systems',\n",
       " 'to',\n",
       " 'perform',\n",
       " 'tasks',\n",
       " 'such',\n",
       " 'as',\n",
       " 'understanding',\n",
       " 'language',\n",
       " ',',\n",
       " 'recognizing',\n",
       " 'patterns',\n",
       " ',',\n",
       " 'solving',\n",
       " 'problems',\n",
       " ',',\n",
       " 'and',\n",
       " 'even',\n",
       " 'creating',\n",
       " 'new',\n",
       " 'content',\n",
       " '.',\n",
       " 'From',\n",
       " 'self-driving',\n",
       " 'cars',\n",
       " 'to',\n",
       " 'medical',\n",
       " 'diagnostics',\n",
       " ',',\n",
       " 'AI',\n",
       " 'is',\n",
       " 'transforming',\n",
       " 'industries',\n",
       " 'by',\n",
       " 'increasing',\n",
       " 'efficiency',\n",
       " ',',\n",
       " 'accuracy',\n",
       " ',',\n",
       " 'and',\n",
       " 'scalability',\n",
       " '.',\n",
       " 'Its',\n",
       " 'rapid',\n",
       " 'evolution—driven',\n",
       " 'by',\n",
       " 'advances',\n",
       " 'in',\n",
       " 'machine',\n",
       " 'learning',\n",
       " ',',\n",
       " 'deep',\n",
       " 'learning',\n",
       " ',',\n",
       " 'and',\n",
       " 'natural',\n",
       " 'language',\n",
       " 'processing—has',\n",
       " 'opened',\n",
       " 'opportunities',\n",
       " 'for',\n",
       " 'innovation',\n",
       " 'while',\n",
       " 'also',\n",
       " 'raising',\n",
       " 'important',\n",
       " 'ethical',\n",
       " 'questions',\n",
       " 'about',\n",
       " 'privacy',\n",
       " ',',\n",
       " 'bias',\n",
       " ',',\n",
       " 'and',\n",
       " 'the',\n",
       " 'role',\n",
       " 'of',\n",
       " 'humans',\n",
       " 'in',\n",
       " 'decision-making',\n",
       " '.']"
      ]
     },
     "execution_count": 51,
     "metadata": {},
     "output_type": "execute_result"
    }
   ],
   "source": [
    "ai_tokens = word_tokenize(AI)\n",
    "ai_tokens"
   ]
  },
  {
   "cell_type": "code",
   "execution_count": 55,
   "id": "45233af5-dc24-4269-8e36-56a9147a2a83",
   "metadata": {},
   "outputs": [
    {
     "data": {
      "text/plain": [
       "117"
      ]
     },
     "execution_count": 55,
     "metadata": {},
     "output_type": "execute_result"
    }
   ],
   "source": [
    "len(ai_tokens)"
   ]
  },
  {
   "cell_type": "code",
   "execution_count": 57,
   "id": "ff738ca0-d085-4539-930e-8dd658edb0a0",
   "metadata": {},
   "outputs": [],
   "source": [
    "from nltk.probability import FreqDist\n",
    "fist = FreqDist()"
   ]
  },
  {
   "cell_type": "code",
   "execution_count": 59,
   "id": "8719c856-7a74-40a9-a5ec-f4ce9a777332",
   "metadata": {},
   "outputs": [
    {
     "data": {
      "text/plain": [
       "FreqDist({',': 14, 'and': 6, 'to': 4, '.': 4, 'in': 3, 'intelligence': 2, 'ai': 2, 'is': 2, 'the': 2, 'of': 2, ...})"
      ]
     },
     "execution_count": 59,
     "metadata": {},
     "output_type": "execute_result"
    }
   ],
   "source": [
    "for word in ai_tokens:\n",
    "    fist[word.lower()]+=1\n",
    "\n",
    "fist"
   ]
  },
  {
   "cell_type": "code",
   "execution_count": 61,
   "id": "07f2c280-f6c7-43cc-a660-aa081e8b2cad",
   "metadata": {},
   "outputs": [
    {
     "data": {
      "text/plain": [
       "4"
      ]
     },
     "execution_count": 61,
     "metadata": {},
     "output_type": "execute_result"
    }
   ],
   "source": [
    "fist['to']"
   ]
  },
  {
   "cell_type": "code",
   "execution_count": 63,
   "id": "0966e3d0-40e5-4043-83fd-d57b24406636",
   "metadata": {},
   "outputs": [
    {
     "data": {
      "text/plain": [
       "83"
      ]
     },
     "execution_count": 63,
     "metadata": {},
     "output_type": "execute_result"
    }
   ],
   "source": [
    "len(fist)"
   ]
  },
  {
   "cell_type": "markdown",
   "id": "680c2c8b-7f85-4f58-87c5-77832e20d1a5",
   "metadata": {},
   "source": [
    "fist_topten = fist.most_common(10)\n",
    "fist_topten"
   ]
  },
  {
   "cell_type": "code",
   "execution_count": 67,
   "id": "21c1fc05-093b-4392-9026-225b5dc944a0",
   "metadata": {},
   "outputs": [
    {
     "data": {
      "text/plain": [
       "1"
      ]
     },
     "execution_count": 67,
     "metadata": {},
     "output_type": "execute_result"
    }
   ],
   "source": [
    "from nltk.tokenize import blankline_tokenize\n",
    "ai_blank = blankline_tokenize(AI)\n",
    "len(ai_blank)"
   ]
  },
  {
   "cell_type": "code",
   "execution_count": 71,
   "id": "4de0e244-88f9-4932-8043-d90bbd727c5b",
   "metadata": {},
   "outputs": [
    {
     "data": {
      "text/plain": [
       "' Artificial Intelligence (AI) is the simulation of human-like intelligence in machines that are designed to think, learn, and make decisions. \\nIt combines algorithms, vast datasets, and computational power to enable systems to perform tasks such as understanding language, recognizing patterns, \\nsolving problems, and even creating new content. From self-driving cars to medical diagnostics, AI is transforming industries by increasing efficiency,\\naccuracy, and scalability. Its rapid evolution—driven by advances in machine learning, deep learning, and natural language processing—has opened \\nopportunities for innovation while also raising important ethical questions about privacy, bias, and the role of humans in decision-making.'"
      ]
     },
     "execution_count": 71,
     "metadata": {},
     "output_type": "execute_result"
    }
   ],
   "source": [
    "ai_blank[0]"
   ]
  },
  {
   "cell_type": "markdown",
   "id": "e9601268-99e4-4f2f-b78d-ae8901f29c89",
   "metadata": {},
   "source": [
    "we have bigrams, trigrams, and n-grams. \n",
    "1. Birgrams = Tokens of two consecutive written words known as Bigram.\n",
    "2. Trigrams = Tokens of three consecutive written words known as trigrams.\n",
    "3. N grams = Tokens of any numbers of consecutive written wrods."
   ]
  },
  {
   "cell_type": "code",
   "execution_count": 74,
   "id": "8688388c-d5b0-4666-9f55-9330ba37e7a5",
   "metadata": {},
   "outputs": [],
   "source": [
    "from nltk.util import bigrams, trigrams, ngrams"
   ]
  },
  {
   "cell_type": "code",
   "execution_count": 78,
   "id": "852ffa36-7ddb-4875-b3bd-6f4a5081edc0",
   "metadata": {},
   "outputs": [],
   "source": [
    "string = \"\"\" Its rapid evolution driven by advances in machine learning, deep learning, and natural language processing has opened \n",
    "opportunities for innovation while also raising important ethical questions about privacy, bias, and the role of humans in decision making.\"\"\"\n"
   ]
  },
  {
   "cell_type": "code",
   "execution_count": 80,
   "id": "fe1e9dbc-61ab-439d-9376-3e4371e0830a",
   "metadata": {},
   "outputs": [
    {
     "data": {
      "text/plain": [
       "['Its',\n",
       " 'rapid',\n",
       " 'evolution',\n",
       " 'driven',\n",
       " 'by',\n",
       " 'advances',\n",
       " 'in',\n",
       " 'machine',\n",
       " 'learning',\n",
       " ',',\n",
       " 'deep',\n",
       " 'learning',\n",
       " ',',\n",
       " 'and',\n",
       " 'natural',\n",
       " 'language',\n",
       " 'processing',\n",
       " 'has',\n",
       " 'opened',\n",
       " 'opportunities',\n",
       " 'for',\n",
       " 'innovation',\n",
       " 'while',\n",
       " 'also',\n",
       " 'raising',\n",
       " 'important',\n",
       " 'ethical',\n",
       " 'questions',\n",
       " 'about',\n",
       " 'privacy',\n",
       " ',',\n",
       " 'bias',\n",
       " ',',\n",
       " 'and',\n",
       " 'the',\n",
       " 'role',\n",
       " 'of',\n",
       " 'humans',\n",
       " 'in',\n",
       " 'decision',\n",
       " 'making',\n",
       " '.']"
      ]
     },
     "execution_count": 80,
     "metadata": {},
     "output_type": "execute_result"
    }
   ],
   "source": [
    "quotes_tokens = nltk.word_tokenize(string)\n",
    "quotes_tokens"
   ]
  },
  {
   "cell_type": "code",
   "execution_count": 82,
   "id": "e2b3e090-0fc9-4019-99c7-11200e76f9c6",
   "metadata": {},
   "outputs": [
    {
     "data": {
      "text/plain": [
       "[('Its', 'rapid'),\n",
       " ('rapid', 'evolution'),\n",
       " ('evolution', 'driven'),\n",
       " ('driven', 'by'),\n",
       " ('by', 'advances'),\n",
       " ('advances', 'in'),\n",
       " ('in', 'machine'),\n",
       " ('machine', 'learning'),\n",
       " ('learning', ','),\n",
       " (',', 'deep'),\n",
       " ('deep', 'learning'),\n",
       " ('learning', ','),\n",
       " (',', 'and'),\n",
       " ('and', 'natural'),\n",
       " ('natural', 'language'),\n",
       " ('language', 'processing'),\n",
       " ('processing', 'has'),\n",
       " ('has', 'opened'),\n",
       " ('opened', 'opportunities'),\n",
       " ('opportunities', 'for'),\n",
       " ('for', 'innovation'),\n",
       " ('innovation', 'while'),\n",
       " ('while', 'also'),\n",
       " ('also', 'raising'),\n",
       " ('raising', 'important'),\n",
       " ('important', 'ethical'),\n",
       " ('ethical', 'questions'),\n",
       " ('questions', 'about'),\n",
       " ('about', 'privacy'),\n",
       " ('privacy', ','),\n",
       " (',', 'bias'),\n",
       " ('bias', ','),\n",
       " (',', 'and'),\n",
       " ('and', 'the'),\n",
       " ('the', 'role'),\n",
       " ('role', 'of'),\n",
       " ('of', 'humans'),\n",
       " ('humans', 'in'),\n",
       " ('in', 'decision'),\n",
       " ('decision', 'making'),\n",
       " ('making', '.')]"
      ]
     },
     "execution_count": 82,
     "metadata": {},
     "output_type": "execute_result"
    }
   ],
   "source": [
    "quotes_bi = list(nltk.bigrams(quotes_tokens))\n",
    "quotes_bi"
   ]
  },
  {
   "cell_type": "code",
   "execution_count": 84,
   "id": "d7f35a41-d50a-4000-ab57-d200bf585969",
   "metadata": {},
   "outputs": [
    {
     "data": {
      "text/plain": [
       "[('Its', 'rapid', 'evolution'),\n",
       " ('rapid', 'evolution', 'driven'),\n",
       " ('evolution', 'driven', 'by'),\n",
       " ('driven', 'by', 'advances'),\n",
       " ('by', 'advances', 'in'),\n",
       " ('advances', 'in', 'machine'),\n",
       " ('in', 'machine', 'learning'),\n",
       " ('machine', 'learning', ','),\n",
       " ('learning', ',', 'deep'),\n",
       " (',', 'deep', 'learning'),\n",
       " ('deep', 'learning', ','),\n",
       " ('learning', ',', 'and'),\n",
       " (',', 'and', 'natural'),\n",
       " ('and', 'natural', 'language'),\n",
       " ('natural', 'language', 'processing'),\n",
       " ('language', 'processing', 'has'),\n",
       " ('processing', 'has', 'opened'),\n",
       " ('has', 'opened', 'opportunities'),\n",
       " ('opened', 'opportunities', 'for'),\n",
       " ('opportunities', 'for', 'innovation'),\n",
       " ('for', 'innovation', 'while'),\n",
       " ('innovation', 'while', 'also'),\n",
       " ('while', 'also', 'raising'),\n",
       " ('also', 'raising', 'important'),\n",
       " ('raising', 'important', 'ethical'),\n",
       " ('important', 'ethical', 'questions'),\n",
       " ('ethical', 'questions', 'about'),\n",
       " ('questions', 'about', 'privacy'),\n",
       " ('about', 'privacy', ','),\n",
       " ('privacy', ',', 'bias'),\n",
       " (',', 'bias', ','),\n",
       " ('bias', ',', 'and'),\n",
       " (',', 'and', 'the'),\n",
       " ('and', 'the', 'role'),\n",
       " ('the', 'role', 'of'),\n",
       " ('role', 'of', 'humans'),\n",
       " ('of', 'humans', 'in'),\n",
       " ('humans', 'in', 'decision'),\n",
       " ('in', 'decision', 'making'),\n",
       " ('decision', 'making', '.')]"
      ]
     },
     "execution_count": 84,
     "metadata": {},
     "output_type": "execute_result"
    }
   ],
   "source": [
    "quotes_tri = list(nltk.trigrams(quotes_tokens))\n",
    "quotes_tri"
   ]
  },
  {
   "cell_type": "code",
   "execution_count": 94,
   "id": "88ade169-57b3-48ee-830e-1b2359987456",
   "metadata": {},
   "outputs": [
    {
     "data": {
      "text/plain": [
       "[('Its', 'rapid', 'evolution', 'driven', 'by'),\n",
       " ('rapid', 'evolution', 'driven', 'by', 'advances'),\n",
       " ('evolution', 'driven', 'by', 'advances', 'in'),\n",
       " ('driven', 'by', 'advances', 'in', 'machine'),\n",
       " ('by', 'advances', 'in', 'machine', 'learning'),\n",
       " ('advances', 'in', 'machine', 'learning', ','),\n",
       " ('in', 'machine', 'learning', ',', 'deep'),\n",
       " ('machine', 'learning', ',', 'deep', 'learning'),\n",
       " ('learning', ',', 'deep', 'learning', ','),\n",
       " (',', 'deep', 'learning', ',', 'and'),\n",
       " ('deep', 'learning', ',', 'and', 'natural'),\n",
       " ('learning', ',', 'and', 'natural', 'language'),\n",
       " (',', 'and', 'natural', 'language', 'processing'),\n",
       " ('and', 'natural', 'language', 'processing', 'has'),\n",
       " ('natural', 'language', 'processing', 'has', 'opened'),\n",
       " ('language', 'processing', 'has', 'opened', 'opportunities'),\n",
       " ('processing', 'has', 'opened', 'opportunities', 'for'),\n",
       " ('has', 'opened', 'opportunities', 'for', 'innovation'),\n",
       " ('opened', 'opportunities', 'for', 'innovation', 'while'),\n",
       " ('opportunities', 'for', 'innovation', 'while', 'also'),\n",
       " ('for', 'innovation', 'while', 'also', 'raising'),\n",
       " ('innovation', 'while', 'also', 'raising', 'important'),\n",
       " ('while', 'also', 'raising', 'important', 'ethical'),\n",
       " ('also', 'raising', 'important', 'ethical', 'questions'),\n",
       " ('raising', 'important', 'ethical', 'questions', 'about'),\n",
       " ('important', 'ethical', 'questions', 'about', 'privacy'),\n",
       " ('ethical', 'questions', 'about', 'privacy', ','),\n",
       " ('questions', 'about', 'privacy', ',', 'bias'),\n",
       " ('about', 'privacy', ',', 'bias', ','),\n",
       " ('privacy', ',', 'bias', ',', 'and'),\n",
       " (',', 'bias', ',', 'and', 'the'),\n",
       " ('bias', ',', 'and', 'the', 'role'),\n",
       " (',', 'and', 'the', 'role', 'of'),\n",
       " ('and', 'the', 'role', 'of', 'humans'),\n",
       " ('the', 'role', 'of', 'humans', 'in'),\n",
       " ('role', 'of', 'humans', 'in', 'decision'),\n",
       " ('of', 'humans', 'in', 'decision', 'making'),\n",
       " ('humans', 'in', 'decision', 'making', '.')]"
      ]
     },
     "execution_count": 94,
     "metadata": {},
     "output_type": "execute_result"
    }
   ],
   "source": [
    "quotes_ngram = list(nltk.ngrams(quotes_tokens, 5))\n",
    "quotes_ngram"
   ]
  },
  {
   "cell_type": "markdown",
   "id": "56005d2e-61d9-4e35-8d07-51544872991b",
   "metadata": {},
   "source": [
    "Once we have created tokens, now we have make some changes in these tokens.\n",
    "for that we have\n",
    "### 1. Stemming\n",
    "Normalizes words into its base form or root form.\n",
    "This approach has some limitations,"
   ]
  },
  {
   "cell_type": "code",
   "execution_count": 107,
   "id": "20f2e5ee-a171-43eb-bd2d-ad49750058a7",
   "metadata": {},
   "outputs": [],
   "source": [
    "from nltk.stem import PorterStemmer\n",
    "pst = PorterStemmer()"
   ]
  },
  {
   "cell_type": "code",
   "execution_count": 111,
   "id": "50480851-609b-4cab-a4c4-ccdff2b8fb27",
   "metadata": {},
   "outputs": [
    {
     "data": {
      "text/plain": [
       "'have'"
      ]
     },
     "execution_count": 111,
     "metadata": {},
     "output_type": "execute_result"
    }
   ],
   "source": [
    "pst.stem('having')"
   ]
  },
  {
   "cell_type": "code",
   "execution_count": 115,
   "id": "8d73dfe0-6f25-44bf-88c4-43edcd216e76",
   "metadata": {},
   "outputs": [
    {
     "name": "stdout",
     "output_type": "stream",
     "text": [
      "give:give\n",
      "given:given\n",
      "gave:gave\n",
      "giving:give\n"
     ]
    }
   ],
   "source": [
    "words_to_stem = [\"give\", \"given\", \"gave\", \"giving\"]\n",
    "for words in words_to_stem: \n",
    "    print(words+ \":\" +pst.stem(words))"
   ]
  },
  {
   "cell_type": "code",
   "execution_count": 117,
   "id": "5dff6e76-ab80-4bed-a8bc-3e994036fd4e",
   "metadata": {},
   "outputs": [
    {
     "name": "stdout",
     "output_type": "stream",
     "text": [
      "give:giv\n",
      "given:giv\n",
      "gave:gav\n",
      "giving:giv\n"
     ]
    }
   ],
   "source": [
    "from nltk.stem import LancasterStemmer\n",
    "lst = LancasterStemmer()\n",
    "for words in words_to_stem:\n",
    "    print(words+ \":\" +lst.stem(words))"
   ]
  },
  {
   "cell_type": "code",
   "execution_count": 119,
   "id": "773235d9-8391-4e8b-9537-6fdd07c7b263",
   "metadata": {},
   "outputs": [],
   "source": [
    "from nltk.stem import SnowballStemmer\n",
    "sbs = SnowballStemmer('english')"
   ]
  },
  {
   "cell_type": "code",
   "execution_count": 123,
   "id": "94c30e3c-4428-4b21-9b8a-ab896370b72a",
   "metadata": {},
   "outputs": [
    {
     "name": "stdout",
     "output_type": "stream",
     "text": [
      "give:give\n",
      "given:given\n",
      "gave:gave\n",
      "giving:give\n"
     ]
    }
   ],
   "source": [
    "for words in words_to_stem:\n",
    "    print(words+ \":\" +sbs.stem(words))\n",
    "\n",
    "# some times the stemmer dosen't give us proper results."
   ]
  },
  {
   "cell_type": "markdown",
   "id": "47574423-1d1f-4804-8200-8419fad620ef",
   "metadata": {},
   "source": [
    "## Lemitization\n",
    "what does it do:\n",
    "1. Group together different inflected forms of a word, called Lemma.\n",
    "2. Somehow similar to setmming, as it maps several wrods into one common root.\n",
    "3. Output of Lemmitization is a proper word.\n",
    "4. for example a lemmatizer should map, gone, going and went into go."
   ]
  },
  {
   "cell_type": "code",
   "execution_count": 134,
   "id": "22984b60-55fd-4cf4-b439-518307007af9",
   "metadata": {},
   "outputs": [],
   "source": [
    "from nltk.stem import wordnet\n",
    "from nltk.stem import WordNetLemmatizer\n",
    "wor_len = WordNetLemmatizer()"
   ]
  },
  {
   "cell_type": "code",
   "execution_count": 136,
   "id": "47bae61d-0a75-4820-b0f1-d30e3acb3aa6",
   "metadata": {},
   "outputs": [
    {
     "data": {
      "text/plain": [
       "'corpus'"
      ]
     },
     "execution_count": 136,
     "metadata": {},
     "output_type": "execute_result"
    }
   ],
   "source": [
    "wor_len.lemmatize('corpora')"
   ]
  },
  {
   "cell_type": "code",
   "execution_count": 140,
   "id": "307fc9d3-1aa4-4eff-98c2-d7a2dff7b2fc",
   "metadata": {},
   "outputs": [
    {
     "name": "stdout",
     "output_type": "stream",
     "text": [
      "give:give\n",
      "given:given\n",
      "gave:gave\n",
      "giving:giving\n"
     ]
    }
   ],
   "source": [
    "for words in words_to_stem:\n",
    "    print(words+ \":\" +wor_len.lemmatize(words))"
   ]
  },
  {
   "cell_type": "markdown",
   "id": "0e3fe1e2-aac1-4026-9577-c3f8ccc0c9bf",
   "metadata": {},
   "source": [
    "## Stop Words\n",
    "These words are helpful in english language but not helpful in language processing."
   ]
  },
  {
   "cell_type": "code",
   "execution_count": 143,
   "id": "fd7aa5c5-34a5-4e7f-865d-4bb0ec4f37b1",
   "metadata": {},
   "outputs": [],
   "source": [
    "from nltk.corpus import stopwords"
   ]
  },
  {
   "cell_type": "code",
   "execution_count": 147,
   "id": "84702c2e-2f6a-46cf-8bfb-623f89cfde0f",
   "metadata": {},
   "outputs": [
    {
     "data": {
      "text/plain": [
       "['a',\n",
       " 'about',\n",
       " 'above',\n",
       " 'after',\n",
       " 'again',\n",
       " 'against',\n",
       " 'ain',\n",
       " 'all',\n",
       " 'am',\n",
       " 'an',\n",
       " 'and',\n",
       " 'any',\n",
       " 'are',\n",
       " 'aren',\n",
       " \"aren't\",\n",
       " 'as',\n",
       " 'at',\n",
       " 'be',\n",
       " 'because',\n",
       " 'been',\n",
       " 'before',\n",
       " 'being',\n",
       " 'below',\n",
       " 'between',\n",
       " 'both',\n",
       " 'but',\n",
       " 'by',\n",
       " 'can',\n",
       " 'couldn',\n",
       " \"couldn't\",\n",
       " 'd',\n",
       " 'did',\n",
       " 'didn',\n",
       " \"didn't\",\n",
       " 'do',\n",
       " 'does',\n",
       " 'doesn',\n",
       " \"doesn't\",\n",
       " 'doing',\n",
       " 'don',\n",
       " \"don't\",\n",
       " 'down',\n",
       " 'during',\n",
       " 'each',\n",
       " 'few',\n",
       " 'for',\n",
       " 'from',\n",
       " 'further',\n",
       " 'had',\n",
       " 'hadn',\n",
       " \"hadn't\",\n",
       " 'has',\n",
       " 'hasn',\n",
       " \"hasn't\",\n",
       " 'have',\n",
       " 'haven',\n",
       " \"haven't\",\n",
       " 'having',\n",
       " 'he',\n",
       " \"he'd\",\n",
       " \"he'll\",\n",
       " 'her',\n",
       " 'here',\n",
       " 'hers',\n",
       " 'herself',\n",
       " \"he's\",\n",
       " 'him',\n",
       " 'himself',\n",
       " 'his',\n",
       " 'how',\n",
       " 'i',\n",
       " \"i'd\",\n",
       " 'if',\n",
       " \"i'll\",\n",
       " \"i'm\",\n",
       " 'in',\n",
       " 'into',\n",
       " 'is',\n",
       " 'isn',\n",
       " \"isn't\",\n",
       " 'it',\n",
       " \"it'd\",\n",
       " \"it'll\",\n",
       " \"it's\",\n",
       " 'its',\n",
       " 'itself',\n",
       " \"i've\",\n",
       " 'just',\n",
       " 'll',\n",
       " 'm',\n",
       " 'ma',\n",
       " 'me',\n",
       " 'mightn',\n",
       " \"mightn't\",\n",
       " 'more',\n",
       " 'most',\n",
       " 'mustn',\n",
       " \"mustn't\",\n",
       " 'my',\n",
       " 'myself',\n",
       " 'needn',\n",
       " \"needn't\",\n",
       " 'no',\n",
       " 'nor',\n",
       " 'not',\n",
       " 'now',\n",
       " 'o',\n",
       " 'of',\n",
       " 'off',\n",
       " 'on',\n",
       " 'once',\n",
       " 'only',\n",
       " 'or',\n",
       " 'other',\n",
       " 'our',\n",
       " 'ours',\n",
       " 'ourselves',\n",
       " 'out',\n",
       " 'over',\n",
       " 'own',\n",
       " 're',\n",
       " 's',\n",
       " 'same',\n",
       " 'shan',\n",
       " \"shan't\",\n",
       " 'she',\n",
       " \"she'd\",\n",
       " \"she'll\",\n",
       " \"she's\",\n",
       " 'should',\n",
       " 'shouldn',\n",
       " \"shouldn't\",\n",
       " \"should've\",\n",
       " 'so',\n",
       " 'some',\n",
       " 'such',\n",
       " 't',\n",
       " 'than',\n",
       " 'that',\n",
       " \"that'll\",\n",
       " 'the',\n",
       " 'their',\n",
       " 'theirs',\n",
       " 'them',\n",
       " 'themselves',\n",
       " 'then',\n",
       " 'there',\n",
       " 'these',\n",
       " 'they',\n",
       " \"they'd\",\n",
       " \"they'll\",\n",
       " \"they're\",\n",
       " \"they've\",\n",
       " 'this',\n",
       " 'those',\n",
       " 'through',\n",
       " 'to',\n",
       " 'too',\n",
       " 'under',\n",
       " 'until',\n",
       " 'up',\n",
       " 've',\n",
       " 'very',\n",
       " 'was',\n",
       " 'wasn',\n",
       " \"wasn't\",\n",
       " 'we',\n",
       " \"we'd\",\n",
       " \"we'll\",\n",
       " \"we're\",\n",
       " 'were',\n",
       " 'weren',\n",
       " \"weren't\",\n",
       " \"we've\",\n",
       " 'what',\n",
       " 'when',\n",
       " 'where',\n",
       " 'which',\n",
       " 'while',\n",
       " 'who',\n",
       " 'whom',\n",
       " 'why',\n",
       " 'will',\n",
       " 'with',\n",
       " 'won',\n",
       " \"won't\",\n",
       " 'wouldn',\n",
       " \"wouldn't\",\n",
       " 'y',\n",
       " 'you',\n",
       " \"you'd\",\n",
       " \"you'll\",\n",
       " 'your',\n",
       " \"you're\",\n",
       " 'yours',\n",
       " 'yourself',\n",
       " 'yourselves',\n",
       " \"you've\"]"
      ]
     },
     "execution_count": 147,
     "metadata": {},
     "output_type": "execute_result"
    }
   ],
   "source": [
    "stopwords = stopwords.words('english')\n",
    "stopwords"
   ]
  },
  {
   "cell_type": "code",
   "execution_count": 149,
   "id": "fd97a618-c403-45f9-84f0-b62fa73dfb4b",
   "metadata": {},
   "outputs": [
    {
     "name": "stdout",
     "output_type": "stream",
     "text": [
      "198\n"
     ]
    }
   ],
   "source": [
    "print(len(stopwords))"
   ]
  },
  {
   "cell_type": "code",
   "execution_count": 157,
   "id": "fa5c52d1-167b-4186-a020-f8c9003375a6",
   "metadata": {},
   "outputs": [],
   "source": [
    "import re\n",
    "punctuation=re.compile(r'[-.?!,:;|0-9]')"
   ]
  },
  {
   "cell_type": "code",
   "execution_count": 161,
   "id": "eeab722b-e483-4a20-91cf-6de17ba7aed1",
   "metadata": {},
   "outputs": [],
   "source": [
    "post_punc = []\n",
    "for words in ai_tokens: \n",
    "    word= punctuation.sub('',words)\n",
    "    if len(word)>0:\n",
    "        post_punc.append(word)"
   ]
  },
  {
   "cell_type": "code",
   "execution_count": 163,
   "id": "643b5786-b8b5-4352-ac26-488c3743d6f6",
   "metadata": {},
   "outputs": [
    {
     "data": {
      "text/plain": [
       "['Artificial',\n",
       " 'Intelligence',\n",
       " '(',\n",
       " 'AI',\n",
       " ')',\n",
       " 'is',\n",
       " 'the',\n",
       " 'simulation',\n",
       " 'of',\n",
       " 'humanlike',\n",
       " 'intelligence',\n",
       " 'in',\n",
       " 'machines',\n",
       " 'that',\n",
       " 'are',\n",
       " 'designed',\n",
       " 'to',\n",
       " 'think',\n",
       " 'learn',\n",
       " 'and',\n",
       " 'make',\n",
       " 'decisions',\n",
       " 'It',\n",
       " 'combines',\n",
       " 'algorithms',\n",
       " 'vast',\n",
       " 'datasets',\n",
       " 'and',\n",
       " 'computational',\n",
       " 'power',\n",
       " 'to',\n",
       " 'enable',\n",
       " 'systems',\n",
       " 'to',\n",
       " 'perform',\n",
       " 'tasks',\n",
       " 'such',\n",
       " 'as',\n",
       " 'understanding',\n",
       " 'language',\n",
       " 'recognizing',\n",
       " 'patterns',\n",
       " 'solving',\n",
       " 'problems',\n",
       " 'and',\n",
       " 'even',\n",
       " 'creating',\n",
       " 'new',\n",
       " 'content',\n",
       " 'From',\n",
       " 'selfdriving',\n",
       " 'cars',\n",
       " 'to',\n",
       " 'medical',\n",
       " 'diagnostics',\n",
       " 'AI',\n",
       " 'is',\n",
       " 'transforming',\n",
       " 'industries',\n",
       " 'by',\n",
       " 'increasing',\n",
       " 'efficiency',\n",
       " 'accuracy',\n",
       " 'and',\n",
       " 'scalability',\n",
       " 'Its',\n",
       " 'rapid',\n",
       " 'evolution—driven',\n",
       " 'by',\n",
       " 'advances',\n",
       " 'in',\n",
       " 'machine',\n",
       " 'learning',\n",
       " 'deep',\n",
       " 'learning',\n",
       " 'and',\n",
       " 'natural',\n",
       " 'language',\n",
       " 'processing—has',\n",
       " 'opened',\n",
       " 'opportunities',\n",
       " 'for',\n",
       " 'innovation',\n",
       " 'while',\n",
       " 'also',\n",
       " 'raising',\n",
       " 'important',\n",
       " 'ethical',\n",
       " 'questions',\n",
       " 'about',\n",
       " 'privacy',\n",
       " 'bias',\n",
       " 'and',\n",
       " 'the',\n",
       " 'role',\n",
       " 'of',\n",
       " 'humans',\n",
       " 'in',\n",
       " 'decisionmaking']"
      ]
     },
     "execution_count": 163,
     "metadata": {},
     "output_type": "execute_result"
    }
   ],
   "source": [
    "post_punc"
   ]
  },
  {
   "cell_type": "code",
   "execution_count": 165,
   "id": "1abc24cc-37b1-4123-9434-4b8ab3b471d3",
   "metadata": {},
   "outputs": [
    {
     "name": "stdout",
     "output_type": "stream",
     "text": [
      "99\n"
     ]
    }
   ],
   "source": [
    "print(len(post_punc))"
   ]
  },
  {
   "cell_type": "markdown",
   "id": "9d595340-b6c6-41a4-9d92-757d5df13011",
   "metadata": {},
   "source": [
    "## POS (Parts of speech)\n",
    "Ambugiuity make it harder for the machine to learn properly.\n",
    "1. tags and descriptions.\n",
    "2. "
   ]
  },
  {
   "cell_type": "code",
   "execution_count": 168,
   "id": "c59a48b6-4f93-4c0d-8276-ce4472df007e",
   "metadata": {},
   "outputs": [],
   "source": [
    "sent = \"Timothy is a natural when it comes to drawing\"\n",
    "sent_tokens = word_tokenize(sent)"
   ]
  },
  {
   "cell_type": "code",
   "execution_count": 170,
   "id": "58f6e7a1-0cc3-4ac6-a31a-9d92685d8128",
   "metadata": {},
   "outputs": [
    {
     "name": "stdout",
     "output_type": "stream",
     "text": [
      "[('Timothy', 'NN')]\n",
      "[('is', 'VBZ')]\n",
      "[('a', 'DT')]\n",
      "[('natural', 'JJ')]\n",
      "[('when', 'WRB')]\n",
      "[('it', 'PRP')]\n",
      "[('comes', 'VBZ')]\n",
      "[('to', 'TO')]\n",
      "[('drawing', 'VBG')]\n"
     ]
    }
   ],
   "source": [
    "for token in sent_tokens:\n",
    "    print(nltk.pos_tag([token]))"
   ]
  },
  {
   "cell_type": "markdown",
   "id": "730ae89b-4789-4f18-9491-1d94b768dafa",
   "metadata": {},
   "source": [
    "## Named Entitiy Recognition\n"
   ]
  },
  {
   "cell_type": "code",
   "execution_count": 175,
   "id": "ad534a6a-751a-48cd-b554-3c749e28084e",
   "metadata": {},
   "outputs": [],
   "source": [
    "from nltk import ne_chunk\n"
   ]
  },
  {
   "cell_type": "code",
   "execution_count": 177,
   "id": "c0f20955-c9e4-4b8e-b382-271af0a98b02",
   "metadata": {},
   "outputs": [],
   "source": [
    "ne_sent = \"The US President stays in the WHITE HOUSE\" "
   ]
  },
  {
   "cell_type": "code",
   "execution_count": 179,
   "id": "beb5fd0a-e9fb-47a9-a732-fd302b6dc2bb",
   "metadata": {},
   "outputs": [],
   "source": [
    "ne_token = word_tokenize(ne_sent)\n",
    "ne_tags = nltk.pos_tag(ne_token)\n"
   ]
  },
  {
   "cell_type": "code",
   "execution_count": 181,
   "id": "6170486d-6b8e-4ade-8409-0fbc39feec86",
   "metadata": {},
   "outputs": [
    {
     "ename": "ModuleNotFoundError",
     "evalue": "No module named 'svgling'",
     "output_type": "error",
     "traceback": [
      "\u001b[1;31m---------------------------------------------------------------------------\u001b[0m",
      "\u001b[1;31mModuleNotFoundError\u001b[0m                       Traceback (most recent call last)",
      "File \u001b[1;32mC:\\ProgramData\\anaconda3\\Lib\\site-packages\\IPython\\core\\formatters.py:347\u001b[0m, in \u001b[0;36mBaseFormatter.__call__\u001b[1;34m(self, obj)\u001b[0m\n\u001b[0;32m    345\u001b[0m     method \u001b[38;5;241m=\u001b[39m get_real_method(obj, \u001b[38;5;28mself\u001b[39m\u001b[38;5;241m.\u001b[39mprint_method)\n\u001b[0;32m    346\u001b[0m     \u001b[38;5;28;01mif\u001b[39;00m method \u001b[38;5;129;01mis\u001b[39;00m \u001b[38;5;129;01mnot\u001b[39;00m \u001b[38;5;28;01mNone\u001b[39;00m:\n\u001b[1;32m--> 347\u001b[0m         \u001b[38;5;28;01mreturn\u001b[39;00m method()\n\u001b[0;32m    348\u001b[0m     \u001b[38;5;28;01mreturn\u001b[39;00m \u001b[38;5;28;01mNone\u001b[39;00m\n\u001b[0;32m    349\u001b[0m \u001b[38;5;28;01melse\u001b[39;00m:\n",
      "File \u001b[1;32mC:\\ProgramData\\anaconda3\\Lib\\site-packages\\nltk\\tree\\tree.py:782\u001b[0m, in \u001b[0;36mTree._repr_svg_\u001b[1;34m(self)\u001b[0m\n\u001b[0;32m    781\u001b[0m \u001b[38;5;28;01mdef\u001b[39;00m \u001b[38;5;21m_repr_svg_\u001b[39m(\u001b[38;5;28mself\u001b[39m):\n\u001b[1;32m--> 782\u001b[0m     \u001b[38;5;28;01mfrom\u001b[39;00m \u001b[38;5;21;01msvgling\u001b[39;00m \u001b[38;5;28;01mimport\u001b[39;00m draw_tree\n\u001b[0;32m    784\u001b[0m     \u001b[38;5;28;01mreturn\u001b[39;00m draw_tree(\u001b[38;5;28mself\u001b[39m)\u001b[38;5;241m.\u001b[39m_repr_svg_()\n",
      "\u001b[1;31mModuleNotFoundError\u001b[0m: No module named 'svgling'"
     ]
    },
    {
     "data": {
      "text/plain": [
       "Tree('S', [('The', 'DT'), Tree('ORGANIZATION', [('US', 'NNP')]), ('President', 'NNP'), ('stays', 'VBZ'), ('in', 'IN'), ('the', 'DT'), Tree('FACILITY', [('WHITE', 'NNP'), ('HOUSE', 'NNP')])])"
      ]
     },
     "execution_count": 181,
     "metadata": {},
     "output_type": "execute_result"
    }
   ],
   "source": [
    "ne_ner = ne_chunk(ne_tags)\n",
    "ne_ner"
   ]
  },
  {
   "cell_type": "markdown",
   "id": "f959a1db-288b-4ed5-865e-513e00c595af",
   "metadata": {},
   "source": [
    "## Syntax\n",
    "### Syntax Tree\n",
    "Syntax tree is a tree representation of syntactic structure of sentences or strings"
   ]
  },
  {
   "cell_type": "code",
   "execution_count": null,
   "id": "418b67e1-0ced-43c5-badf-5e8fa4478b04",
   "metadata": {},
   "outputs": [],
   "source": []
  }
 ],
 "metadata": {
  "kernelspec": {
   "display_name": "Python 3 (ipykernel)",
   "language": "python",
   "name": "python3"
  },
  "language_info": {
   "codemirror_mode": {
    "name": "ipython",
    "version": 3
   },
   "file_extension": ".py",
   "mimetype": "text/x-python",
   "name": "python",
   "nbconvert_exporter": "python",
   "pygments_lexer": "ipython3",
   "version": "3.12.4"
  }
 },
 "nbformat": 4,
 "nbformat_minor": 5
}
