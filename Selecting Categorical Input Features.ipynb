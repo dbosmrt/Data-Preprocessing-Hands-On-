{
 "cells": [
  {
   "cell_type": "markdown",
   "id": "51785165-809e-47a5-addb-c7e4cc202b5f",
   "metadata": {},
   "source": [
    "## How to select Categorical Input Featues: \n",
    "As for this process we will use the so called Breast Cancer dataset which has been widely sutdied as machine learning dataset. There are 286 examples and 9 variables. Its a binary calssification problem. A naive model can achieve this with the accuracy of 70 percent. A good score is 76 percent. We will try to aim for that region."
   ]
  },
  {
   "cell_type": "code",
   "execution_count": 2,
   "id": "41b95ea1-faad-4719-954d-a420a3c3e88b",
   "metadata": {},
   "outputs": [
    {
     "name": "stdout",
     "output_type": "stream",
     "text": [
      "Train (191, 9) (191,)\n",
      "Test (95, 9) (95,)\n"
     ]
    }
   ],
   "source": [
    "import pandas as pd\n",
    "import numpy as np\n",
    "from sklearn.model_selection import train_test_split\n",
    "def load_dataset(filename):\n",
    "    data= pd.read_csv(filename , header = None)\n",
    "    # Convert the pandas dataframe into numpy array\n",
    "    dataset = data.values\n",
    "    X =  dataset[:, :-1]\n",
    "    y = dataset[:, -1]\n",
    "    # Convert all the data values into string as all of the values in the dataset are lables and categorical values.\n",
    "    X = X.astype(str)\n",
    "    return X, y\n",
    "url = 'https://raw.githubusercontent.com/jbrownlee/Datasets/master/breast-cancer.csv'\n",
    "X, y = load_dataset(url)\n",
    "X_train, X_test, y_train, y_test = train_test_split(X, y , test_size=0.33, random_state = 1)\n",
    "print('Train', X_train.shape, y_train.shape )\n",
    "print('Test', X_test.shape, y_test.shape)"
   ]
  },
  {
   "cell_type": "code",
   "execution_count": 3,
   "id": "e47a7307-c2d5-48c0-a1d0-f8fe7416a389",
   "metadata": {},
   "outputs": [
    {
     "name": "stdout",
     "output_type": "stream",
     "text": [
      "(191, 9) (95, 9)\n",
      "(191,) (95,)\n"
     ]
    }
   ],
   "source": [
    "# Import all the libraries\n",
    "import pandas as pd\n",
    "import numpy as np \n",
    "from sklearn.model_selection import train_test_split\n",
    "from sklearn.preprocessing import LabelEncoder\n",
    "from sklearn.preprocessing import OrdinalEncoder\n",
    "\n",
    "# Load all the datasets\n",
    "def load_datasets(filename):\n",
    "    dataset= pd.read_csv(filename, header= None)\n",
    "    # Now we will convert it into array\n",
    "    data = dataset.values\n",
    "    X = data[:, :-1]\n",
    "    y = data[:, -1]\n",
    "    # Convert into strings\n",
    "    X = X.astype(str)\n",
    "    return X, y\n",
    "\n",
    "# Now we will prepare input format\n",
    "def prepare_inputs(X_train, X_test):\n",
    "    oe = OrdinalEncoder()\n",
    "    oe.fit(X_train)\n",
    "    X_train_en = oe.transform(X_train)\n",
    "    X_test_en = oe.transform(X_test)\n",
    "    return X_train_en, X_test_en\n",
    "\n",
    "# In this section we will prepare for the target data.\n",
    "def prepare_targets(y_train, y_test):\n",
    "    le = LabelEncoder()\n",
    "    le.fit(y_train)\n",
    "    y_train_en = le.transform(y_train)\n",
    "    y_test_en = le.transform(y_test)\n",
    "    return y_train_en, y_test_en \n",
    "\n",
    "# we will load data now \n",
    "url = 'https://raw.githubusercontent.com/jbrownlee/Datasets/master/breast-cancer.csv'\n",
    "X, y = load_dataset(url)\n",
    "X_train, X_test, y_train, y_test = train_test_split(X, y , test_size= 0.33, random_state= 1)\n",
    "# now we will just encode\n",
    "X_train_en, X_test_en = prepare_inputs(X_train, X_test)\n",
    "y_train_en, y_test_en = prepare_targets(y_train, y_test)\n",
    "# Print the shape of the data set\n",
    "print(X_train_en.shape , X_test_en.shape)\n",
    "print(y_train_en.shape, y_test_en.shape)"
   ]
  },
  {
   "cell_type": "markdown",
   "id": "ed67dc93-49a0-42d7-863b-8f3818f2d79e",
   "metadata": {},
   "source": [
    "### Categorical Feature Selection\n",
    "There are two popular feature selection methods given bleow for the categorical data."
   ]
  },
  {
   "cell_type": "markdown",
   "id": "ef4c7cd3-3977-4a46-82fe-dbb03590334b",
   "metadata": {},
   "source": [
    "#### Chi-Squared Feature Selection\n",
    "Pearson's Chi-squared stastical Hypothesis test is an example of a test for independence between catogrical variables. The result of this test can be used where those feature which are independent of the target variable are removed."
   ]
  },
  {
   "cell_type": "code",
   "execution_count": 6,
   "id": "d922fb2e-97c1-4835-921e-064b5c8d9dae",
   "metadata": {},
   "outputs": [
    {
     "name": "stdout",
     "output_type": "stream",
     "text": [
      "Feature 0:0.473\n",
      "Feature 1:0.029\n",
      "Feature 2:2.138\n",
      "Feature 3:29.381\n",
      "Feature 4:8.223\n",
      "Feature 5:8.100\n",
      "Feature 6:1.274\n",
      "Feature 7:0.951\n",
      "Feature 8:3.700\n"
     ]
    },
    {
     "data": {
      "image/png": "[encoded data removed]",
      "text/plain": [
       "<Figure size 640x480 with 1 Axes>"
      ]
     },
     "metadata": {},
     "output_type": "display_data"
    }
   ],
   "source": [
    "import pandas as pd\n",
    "import numpy as np \n",
    "from sklearn.model_selection import train_test_split\n",
    "from sklearn.preprocessing import OrdinalEncoder, LabelEncoder\n",
    "from sklearn.feature_selection import SelectKBest\n",
    "from sklearn.feature_selection import chi2\n",
    "from matplotlib import pyplot\n",
    "\n",
    "# lets prepare load dataset\n",
    "def load_dataset(filename):\n",
    "    df= pd.read_csv(filename, header=None)\n",
    "    #Convert this dataset into the numpy array\n",
    "    data = df.values\n",
    "    # Divide them into input and target variables\n",
    "    X = data[:, :-1]\n",
    "    y = data[:, -1]\n",
    "    X = X.astype(str)\n",
    "    return X, y\n",
    "\n",
    "# Lets now define the inputs\n",
    "def prepare_inputs(X_train, X_test):\n",
    "    oe= OrdinalEncoder()\n",
    "    oe.fit(X_train)\n",
    "    X_train_en = oe.transform(X_train)\n",
    "    X_test_en = oe.transform(X_test)\n",
    "    return X_train_en, X_test_en\n",
    "\n",
    "# Prepare target variables\n",
    "def prepare_targets(y_train, y_test):\n",
    "    le = LabelEncoder()\n",
    "    le.fit(y_train)\n",
    "    y_train_en = le.transform(y_train)\n",
    "    y_test_en = le.transform(y_test)\n",
    "    return y_train_en, y_test_en\n",
    "\n",
    "# Define the feature selection\n",
    "def feature_selection(X_train, y_train, X_test):\n",
    "    fs = SelectKBest(score_func=chi2, k='all')\n",
    "    fs.fit(X_train, y_train)\n",
    "    X_train_fs = fs.transform(X_train)\n",
    "    X_test_fs = fs.transform(X_test)\n",
    "    return X_train_fs, X_test_fs, fs\n",
    "\n",
    "#From here now we will work on our data set\n",
    "url = 'https://raw.githubusercontent.com/jbrownlee/Datasets/master/breast-cancer.csv'\n",
    "X, y = load_dataset(url)\n",
    "#We will now split the data into train and test\n",
    "X_train, X_test, y_train, y_test = train_test_split(X, y , test_size= 0.33, random_state= 1)\n",
    "# Prepare the input data\n",
    "X_train_en , X_test_en = prepare_inputs(X_train, X_test)\n",
    "# Prepare the target data\n",
    "y_train_en, y_test_en = prepare_targets(y_train, y_test)\n",
    "# Prepare the feature selection\n",
    "X_train_fs, X_test_fs, fs = feature_selection(X_train_en,y_train_en, X_test_en )\n",
    "for i in range(len(fs.scores_)):\n",
    "    print(f'Feature {i}:{fs.scores_[i]:.3f}')\n",
    "\n",
    "#plot the graph\n",
    "pyplot.bar([i for i in range(len(fs.scores_))], fs.scores_)\n",
    "pyplot.show()\n"
   ]
  },
  {
   "cell_type": "markdown",
   "id": "4af371f3-869e-4dd6-b363-cf679a14af36",
   "metadata": {},
   "source": [
    "#### Mutual Information Feature Selection\n",
    "Mututal Infromation from the field of infromation theory is the application of information gain (typically used in construction trees) to feature selection.\n",
    "\n",
    "This mutual information is calculated between two variables and measures the reduction in uncertanity for one variable given a known value of the other variable.\n",
    "\n",
    "The scikit learn machine learning library provides an implementaition of mutual information for feature selection via the mutal_info_calssif() fucntion. Like chi2(), it can be sued in the SelectKBest feature selection strategu and other strategies."
   ]
  },
  {
   "cell_type": "code",
   "execution_count": 8,
   "id": "85693346-8ee9-440a-bf91-8d5a22c452c6",
   "metadata": {},
   "outputs": [
    {
     "name": "stdout",
     "output_type": "stream",
     "text": [
      "Feature 0 = 0.000\n",
      "Feature 1 = 0.019\n",
      "Feature 2 = 0.040\n",
      "Feature 3 = 0.000\n",
      "Feature 4 = 0.038\n",
      "Feature 5 = 0.083\n",
      "Feature 6 = 0.022\n",
      "Feature 7 = 0.000\n",
      "Feature 8 = 0.097\n"
     ]
    },
    {
     "data": {
      "text/plain": [
       "<function matplotlib.pyplot.show(close=None, block=None)>"
      ]
     },
     "execution_count": 8,
     "metadata": {},
     "output_type": "execute_result"
    },
    {
     "data": {
      "image/png": "[encoded data removed]",
      "text/plain": [
       "<Figure size 640x480 with 1 Axes>"
      ]
     },
     "metadata": {},
     "output_type": "display_data"
    }
   ],
   "source": [
    "import pandas as pd\n",
    "import numpy as np\n",
    "from sklearn.preprocessing import OrdinalEncoder, LabelEncoder\n",
    "from sklearn.model_selection import train_test_split\n",
    "from sklearn.feature_selection import SelectKBest\n",
    "from sklearn.feature_selection import mutual_info_classif\n",
    "from matplotlib import pyplot\n",
    "\n",
    "# Create function to load the dataset\n",
    "def load_dataset(filename):\n",
    "    dataset = pd.read_csv(filename, header=None)\n",
    "    #Convert the dataset into the numpy array\n",
    "    data = dataset.values\n",
    "    # split the data into X and y\n",
    "    X = data[:, :-1]\n",
    "    y = data[:, -1]\n",
    "    X = X.astype(str)\n",
    "    return X, y\n",
    "\n",
    "# Create fuction to prepare inputs\n",
    "def prepare_input(X_train, X_test):\n",
    "    oe= OrdinalEncoder()\n",
    "    oe.fit(X_train)\n",
    "    X_train_en = oe.transform(X_train)\n",
    "    X_test_en = oe.transform(X_test)\n",
    "    return X_train_en, X_test_en \n",
    "\n",
    "#Create function to pepare target\n",
    "def prepare_target(y_train, y_test):\n",
    "    le= LabelEncoder()\n",
    "    le.fit(y_train)\n",
    "    y_train_en = le.transform(y_train)\n",
    "    y_test_en = le.transform(y_test)\n",
    "    return y_train_en, y_test_en\n",
    "\n",
    "# create function for Featrue selection\n",
    "def feature_selection(X_train, y_train, X_test):\n",
    "    fs = SelectKBest(score_func=mutual_info_classif, k='all')\n",
    "    fs.fit(X_train, y_train)\n",
    "    X_train_fs = fs.transform(X_train)\n",
    "    X_test_fs = fs.transform(X_test)\n",
    "    return X_train_fs, X_test_fs, fs\n",
    "\n",
    "# load the dataset\n",
    "url = 'https://raw.githubusercontent.com/jbrownlee/Datasets/master/breast-cancer.csv'\n",
    "X, y = load_dataset(url)\n",
    "# split the dataset into train and test\n",
    "X_train, X_test, y_train, y_test = train_test_split(X, y, test_size= 0.33, random_state= 1)\n",
    "# prepare the inputs\n",
    "X_train_en, X_test_en = prepare_input(X_train, X_test)\n",
    "#prepare the target\n",
    "y_train_en, y_test_en = prepare_target(y_train, y_test)\n",
    "# feature selection\n",
    "X_train_fs, X_test_fs, fs = feature_selection(X_train_en, y_train_en, X_test_en)\n",
    "#check the scores for the features \n",
    "for i in range (len(fs.scores_)):\n",
    "    print(f\"Feature {i} = {fs.scores_[i]:.3f}\")\n",
    "\n",
    "# at last plot the graph for visuals\n",
    "pyplot.bar([i for i in range(len(fs.scores_))], fs.scores_)\n",
    "pyplot.show"
   ]
  },
  {
   "cell_type": "markdown",
   "id": "58904211-8115-4d7e-bba3-0aca7ae25e26",
   "metadata": {},
   "source": [
    "#### To check accuracy for the model built using mutual_info_classif()"
   ]
  },
  {
   "cell_type": "code",
   "execution_count": 10,
   "id": "37ab9b4d-5689-41e6-88c9-8ea036e7eeec",
   "metadata": {},
   "outputs": [
    {
     "name": "stdout",
     "output_type": "stream",
     "text": [
      "Accuracy: 75.79\n"
     ]
    }
   ],
   "source": [
    "from sklearn.linear_model import LogisticRegression\n",
    "from sklearn.metrics import accuracy_score\n",
    "# load the dataset\n",
    "def load_dataset(filename):\n",
    "    # load the dataset as a pandas DataFrame\n",
    "    data = pd.read_csv(filename, header=None)\n",
    "    # retrieve numpy array\n",
    "    dataset = data.values\n",
    "    # split into input (X) and output (y) variables\n",
    "    X = dataset[:, :-1]\n",
    "    y = dataset[:,-1]\n",
    "    # format all fields as string\n",
    "    X = X.astype(str)\n",
    "    return X, y\n",
    "# prepare input data\n",
    "def prepare_inputs(X_train, X_test):\n",
    "    oe = OrdinalEncoder()\n",
    "    oe.fit(X_train)\n",
    "    X_train_enc = oe.transform(X_train)\n",
    "    X_test_enc = oe.transform(X_test)\n",
    "    return X_train_enc, X_test_enc\n",
    "# prepare target\n",
    "def prepare_targets(y_train, y_test):\n",
    "    le = LabelEncoder()\n",
    "    le.fit(y_train)\n",
    "    y_train_enc = le.transform(y_train)\n",
    "    y_test_enc = le.transform(y_test)\n",
    "    return y_train_enc, y_test_enc\n",
    "# load the dataset\n",
    "url = 'https://raw.githubusercontent.com/jbrownlee/Datasets/master/breast-cancer.csv'\n",
    "X, y = load_dataset(url)\n",
    "# split into train and test sets\n",
    "X_train, X_test, y_train, y_test = train_test_split(X, y, test_size=0.33, random_state=1)\n",
    "# prepare input data\n",
    "X_train_enc, X_test_enc = prepare_inputs(X_train, X_test)\n",
    "# prepare output data\n",
    "y_train_enc, y_test_enc = prepare_targets(y_train, y_test)\n",
    "# fit the model\n",
    "model = LogisticRegression(solver='lbfgs')\n",
    "model.fit(X_train_enc, y_train_enc)\n",
    "# evaluate the model\n",
    "evaluate_model = model.predict(X_test_enc)\n",
    "# evaluate predictions\n",
    "accuracy = accuracy_score(y_test_enc, evaluate_model)\n",
    "print('Accuracy: %.2f' % (accuracy*100))"
   ]
  },
  {
   "cell_type": "code",
   "execution_count": 11,
   "id": "5a4ca048-0409-431a-9462-89b208e8d8eb",
   "metadata": {},
   "outputs": [
    {
     "name": "stdout",
     "output_type": "stream",
     "text": [
      "Accuracy: 74.74\n"
     ]
    }
   ],
   "source": [
    "# evaluation of a model fit using chi squared input features\n",
    "from pandas import read_csv\n",
    "from sklearn.preprocessing import LabelEncoder\n",
    "from sklearn.preprocessing import OrdinalEncoder\n",
    "from sklearn.feature_selection import SelectKBest\n",
    "from sklearn.feature_selection import chi2\n",
    "from sklearn.model_selection import train_test_split\n",
    "from sklearn.linear_model import LogisticRegression\n",
    "from sklearn.metrics import accuracy_score\n",
    "# load the dataset\n",
    "def load_dataset(filename):\n",
    "    # load the dataset as a pandas DataFrame\n",
    "    data = read_csv(filename, header=None)\n",
    "    # retrieve numpy array\n",
    "    dataset = data.values\n",
    "    # split into input (X) and output (y) variables\n",
    "    X = dataset[:, :-1]\n",
    "    y = dataset[:,-1]\n",
    "    # format all fields as string\n",
    "    X = X.astype(str)\n",
    "    return X, y\n",
    "\n",
    "# prepare input data\n",
    "def prepare_inputs(X_train, X_test):\n",
    "    oe = OrdinalEncoder()\n",
    "    oe.fit(X_train)\n",
    "    X_train_enc = oe.transform(X_train)\n",
    "    X_test_enc = oe.transform(X_test)\n",
    "    return X_train_enc, X_test_enc\n",
    "# prepare target\n",
    "def prepare_targets(y_train, y_test):\n",
    "    le = LabelEncoder()\n",
    "    le.fit(y_train)\n",
    "    y_train_enc = le.transform(y_train)\n",
    "    y_test_enc = le.transform(y_test)\n",
    "    return y_train_enc, y_test_enc\n",
    "# feature selection\n",
    "def select_features(X_train, y_train, X_test):\n",
    "    fs = SelectKBest(score_func=chi2, k=4)\n",
    "    fs.fit(X_train, y_train)\n",
    "    X_train_fs = fs.transform(X_train)\n",
    "    X_test_fs = fs.transform(X_test)\n",
    "    return X_train_fs, X_test_fs\n",
    "# load the dataset\n",
    "url = 'https://raw.githubusercontent.com/jbrownlee/Datasets/master/breast-cancer.csv'\n",
    "X, y = load_dataset(url)\n",
    "# split into train and test sets\n",
    "X_train, X_test, y_train, y_test = train_test_split(X, y, test_size=0.33, random_state=1)\n",
    "# prepare input data\n",
    "X_train_enc, X_test_enc = prepare_inputs(X_train, X_test)\n",
    "# prepare output data\n",
    "y_train_enc, y_test_enc = prepare_targets(y_train, y_test)\n",
    "# feature selection\n",
    "X_train_fs, X_test_fs = select_features(X_train_enc, y_train_enc, X_test_enc)\n",
    "# fit the model\n",
    "model = LogisticRegression(solver='lbfgs')\n",
    "model.fit(X_train_fs, y_train_enc)\n",
    "# evaluate the model\n",
    "yhat = model.predict(X_test_fs)\n",
    "# evaluate predictions\n",
    "accuracy = accuracy_score(y_test_enc, yhat)\n",
    "print('Accuracy: %.2f' % (accuracy*100))"
   ]
  },
  {
   "cell_type": "code",
   "execution_count": null,
   "id": "b1cce33f-3033-4039-bdb9-71238c9b3b59",
   "metadata": {},
   "outputs": [],
   "source": []
  }
 ],
 "metadata": {
  "kernelspec": {
   "display_name": "Python 3 (ipykernel)",
   "language": "python",
   "name": "python3"
  },
  "language_info": {
   "codemirror_mode": {
    "name": "ipython",
    "version": 3
   },
   "file_extension": ".py",
   "mimetype": "text/x-python",
   "name": "python",
   "nbconvert_exporter": "python",
   "pygments_lexer": "ipython3",
   "version": "3.12.4"
  }
 },
 "nbformat": 4,
 "nbformat_minor": 5
}
