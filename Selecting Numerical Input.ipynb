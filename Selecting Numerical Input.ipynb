{
 "cells": [
  {
   "cell_type": "markdown",
   "id": "1320cfa8-02d9-412c-a0b3-d72932cc5e4f",
   "metadata": {},
   "source": [
    "## Selecting Numerical Input\n",
    "It is simple to select the feature in simple real valued input and output, such as using the Pearson's coefficient. But it becomes little complicated when the we have to use numerical input to determine categorical output.\n",
    "\n",
    "The two mose used feature selection methods are Annova F test and Mutual information calssifier.\n",
    "\n",
    "For this we will be using the diabities dataset."
   ]
  },
  {
   "cell_type": "code",
   "execution_count": 2,
   "id": "a40cdaab-433d-4258-9d7d-f34ab07b0a3f",
   "metadata": {},
   "outputs": [
    {
     "name": "stdout",
     "output_type": "stream",
     "text": [
      "Train : ((514, 8), (514,))\n",
      "Test: ((254, 8), (254,))\n"
     ]
    }
   ],
   "source": [
    "import pandas as pd\n",
    "import numpy as np\n",
    "from sklearn.model_selection import train_test_split\n",
    "from sklearn.linear_model import LogisticRegression\n",
    "from sklearn.metrics import accuracy_score\n",
    "def load_dataset(file):\n",
    "    df= pd.read_csv(file, header = None)\n",
    "    data = df.values\n",
    "    X = data[:,:-1]\n",
    "    y = data[:, -1]\n",
    "    return X, y\n",
    "\n",
    "#load the dataset\n",
    "url = 'https://raw.githubusercontent.com/jbrownlee/Datasets/master/pima-indians-diabetes.csv'\n",
    "X, y = load_dataset(url)\n",
    "# Split the data into training and testing dataset\n",
    "X_train, X_test, y_train , y_test = train_test_split(X, y , test_size= 0.33, random_state = 1)\n",
    "# pring the size\n",
    "print(f'Train : {X_train.shape , y_train.shape}')\n",
    "print(f'Test: {X_test.shape, y_test.shape}')"
   ]
  },
  {
   "cell_type": "markdown",
   "id": "778dad7c-c533-47c8-8016-a902e316982d",
   "metadata": {},
   "source": [
    "#### Annova F test\n",
    "The scikit-learn machine library provides an implementation of the ANOVA F-test in the f classif() function. This function can be used in a feature selection strategy, such as selectin the top k most relevant features (largest values) via the SelectKBest class."
   ]
  },
  {
   "cell_type": "code",
   "execution_count": 4,
   "id": "d0c7cfdd-7c7a-4841-a539-91b64bc1339c",
   "metadata": {},
   "outputs": [
    {
     "name": "stdout",
     "output_type": "stream",
     "text": [
      "Features: 0 16.527\n",
      "Features: 1 131.326\n",
      "Features: 2 0.042\n",
      "Features: 3 1.415\n",
      "Features: 4 12.779\n",
      "Features: 5 49.210\n",
      "Features: 6 13.377\n",
      "Features: 7 25.126\n"
     ]
    },
    {
     "data": {
      "text/plain": [
       "<function matplotlib.pyplot.show(close=None, block=None)>"
      ]
     },
     "execution_count": 4,
     "metadata": {},
     "output_type": "execute_result"
    },
    {
     "data": {
      "image/png": "[encoded data removed]",
      "text/plain": [
       "<Figure size 640x480 with 1 Axes>"
      ]
     },
     "metadata": {},
     "output_type": "display_data"
    }
   ],
   "source": [
    "from sklearn.feature_selection import SelectKBest\n",
    "from sklearn.feature_selection import f_classif\n",
    "from matplotlib import pyplot\n",
    "def select_features(X_train, y_train, X_test):\n",
    "    fs = SelectKBest(score_func= f_classif, k='all')\n",
    "    fs.fit(X_train, y_train)\n",
    "    X_train_fs = fs.transform(X_train)\n",
    "    X_test_fs = fs.transform(X_test)\n",
    "    return X_train, X_test, fs\n",
    "\n",
    "X_train_fs, X_test_fs, fs = select_features(X_train, y_train, X_test)\n",
    "for i in range (len(fs.scores_)):\n",
    "    print(f\"Features: {i} {fs.scores_[i]:.3f}\")\n",
    "\n",
    "pyplot.bar([i for i in range(len(fs.scores_))], fs.scores_)\n",
    "pyplot.show"
   ]
  },
  {
   "cell_type": "markdown",
   "id": "e5d1eec3-04dc-4bc2-9f90-dde898797c40",
   "metadata": {},
   "source": [
    "#### Using Mutual Information Classifier"
   ]
  },
  {
   "cell_type": "code",
   "execution_count": 6,
   "id": "4a9db2bc-aefd-4899-890c-b8721e28209f",
   "metadata": {},
   "outputs": [
    {
     "name": "stdout",
     "output_type": "stream",
     "text": [
      "Features: 0 16.527\n",
      "Features: 1 131.326\n",
      "Features: 2 0.042\n",
      "Features: 3 1.415\n",
      "Features: 4 12.779\n",
      "Features: 5 49.210\n",
      "Features: 6 13.377\n",
      "Features: 7 25.126\n"
     ]
    },
    {
     "data": {
      "text/plain": [
       "<function matplotlib.pyplot.show(close=None, block=None)>"
      ]
     },
     "execution_count": 6,
     "metadata": {},
     "output_type": "execute_result"
    },
    {
     "data": {
      "image/png": "[encoded data removed]",
      "text/plain": [
       "<Figure size 640x480 with 1 Axes>"
      ]
     },
     "metadata": {},
     "output_type": "display_data"
    }
   ],
   "source": [
    "from sklearn.feature_selection import SelectKBest\n",
    "from sklearn.feature_selection import mutual_info_classif\n",
    "from matplotlib import pyplot\n",
    "\n",
    "def mutual_feature(X_train, y_train, X_test):\n",
    "    mf = SelectKBest(score_func=mutual_info_classif, k='all')\n",
    "    mf.fit(X_train, y_train)\n",
    "    X_train_mf = mf.transform(X_train)\n",
    "    X_test_mf = mf.transform(X_test)\n",
    "    return X_train_mf, X_test_mf, mf\n",
    "\n",
    "X_train_mf, X_test_mf, mf = mutual_feature(X_train, y_train, X_test)\n",
    "# lets print the scores\n",
    "for i in range(len(fs.scores_)):\n",
    "    print(f\"Features: {i} {fs.scores_[i]:.3f}\")\n",
    "\n",
    "pyplot.bar([i for i in range(len(fs.scores_))], fs.scores_)\n",
    "pyplot.show"
   ]
  },
  {
   "cell_type": "markdown",
   "id": "ac432b77-54fb-4b4a-98c9-e6a0d50f5910",
   "metadata": {},
   "source": [
    "#### Modeling Using the selected features"
   ]
  },
  {
   "cell_type": "code",
   "execution_count": 8,
   "id": "e480134e-166c-4443-bad6-e2b8edb74d7e",
   "metadata": {},
   "outputs": [
    {
     "name": "stdout",
     "output_type": "stream",
     "text": [
      "Accuracy: 77.56\n"
     ]
    }
   ],
   "source": [
    "model = LogisticRegression(solver='liblinear')\n",
    "model.fit(X_train, y_train)\n",
    "# evaluate the model\n",
    "af = model.predict(X_test)\n",
    "# evaluate predictions\n",
    "accuracy = accuracy_score(y_test, af)\n",
    "print('Accuracy: %.2f' % (accuracy*100))"
   ]
  },
  {
   "cell_type": "code",
   "execution_count": 9,
   "id": "35ff034b-1f39-4911-8067-54db91b2259f",
   "metadata": {},
   "outputs": [
    {
     "name": "stdout",
     "output_type": "stream",
     "text": [
      "Accuracy: 78.74\n"
     ]
    }
   ],
   "source": [
    "# evaluation of a model using 4 features chosen with anova f-test\n",
    "from pandas import read_csv\n",
    "from sklearn.model_selection import train_test_split\n",
    "from sklearn.feature_selection import SelectKBest\n",
    "from sklearn.feature_selection import f_classif\n",
    "from sklearn.linear_model import LogisticRegression\n",
    "from sklearn.metrics import accuracy_score\n",
    "# load the dataset\n",
    "def load_dataset(filename):\n",
    "    # load the dataset as a pandas DataFrame\n",
    "    data = read_csv(filename, header=None)\n",
    "    # retrieve numpy array\n",
    "    dataset = data.values\n",
    "    # split into input (X) and output (y) variables\n",
    "    X = dataset[:, :-1]\n",
    "    y = dataset[:,-1]\n",
    "    return X, y\n",
    "# feature selection\n",
    "def select_features(X_train, y_train, X_test):\n",
    "    # configure to select a subset of features\n",
    "    fs = SelectKBest(score_func=f_classif, k=4)\n",
    "    # learn relationship from training data\n",
    "    fs.fit(X_train, y_train)\n",
    "    # transform train input data\n",
    "    X_train_fs = fs.transform(X_train)\n",
    "    # transform test input data\n",
    "    X_test_fs = fs.transform(X_test)\n",
    "    return X_train_fs, X_test_fs, fs\n",
    "# load the dataset\n",
    "url = 'https://raw.githubusercontent.com/jbrownlee/Datasets/master/pima-indians-diabetes.csv'\n",
    "X, y = load_dataset(url)\n",
    "# split into train and test sets\n",
    "X_train, X_test, y_train, y_test = train_test_split(X, y, test_size=0.33, random_state=1)\n",
    "# feature selection\n",
    "X_train_fs, X_test_fs, fs = select_features(X_train, y_train, X_test)\n",
    "# fit the model\n",
    "model = LogisticRegression(solver='liblinear')\n",
    "model.fit(X_train_fs, y_train)\n",
    "# evaluate the model\n",
    "yhat = model.predict(X_test_fs)\n",
    "# evaluate predictions\n",
    "accuracy = accuracy_score(y_test, yhat)\n",
    "print('Accuracy: %.2f' % (accuracy*100))"
   ]
  },
  {
   "cell_type": "code",
   "execution_count": 10,
   "id": "d2b7456a-bf27-46fd-b448-d23a4c939bdf",
   "metadata": {},
   "outputs": [
    {
     "name": "stdout",
     "output_type": "stream",
     "text": [
      "Accuracy: 77.56\n"
     ]
    }
   ],
   "source": [
    "# evaluation of a model using 4 features chosen with mutual information\n",
    "from pandas import read_csv\n",
    "from sklearn.model_selection import train_test_split\n",
    "from sklearn.feature_selection import SelectKBest\n",
    "from sklearn.feature_selection import mutual_info_classif\n",
    "from sklearn.linear_model import LogisticRegression\n",
    "from sklearn.metrics import accuracy_score\n",
    "# load the dataset\n",
    "def load_dataset(filename):\n",
    "    # load the dataset as a pandas DataFrame\n",
    "    data = read_csv(filename, header=None)\n",
    "    # retrieve numpy array\n",
    "    dataset = data.values\n",
    "    # split into input (X) and output (y) variables\n",
    "    X = dataset[:, :-1]\n",
    "    y = dataset[:,-1]\n",
    "    return X, y\n",
    "# feature selection\n",
    "def select_features(X_train, y_train, X_test):\n",
    "    # configure to select a subset of features\n",
    "    fs = SelectKBest(score_func=mutual_info_classif, k=4)\n",
    "    # learn relationship from training data\n",
    "    fs.fit(X_train, y_train)\n",
    "    # transform train input data\n",
    "    X_train_fs = fs.transform(X_train)\n",
    "    # transform test input data\n",
    "    X_test_fs = fs.transform(X_test)\n",
    "    return X_train_fs, X_test_fs, fs\n",
    "# load the dataset\n",
    "url = 'https://raw.githubusercontent.com/jbrownlee/Datasets/master/pima-indians-diabetes.csv'\n",
    "X, y = load_dataset(url)\n",
    "# split into train and test sets\n",
    "X_train, X_test, y_train, y_test = train_test_split(X, y, test_size=0.33, random_state=1)\n",
    "# feature selection\n",
    "X_train_fs, X_test_fs, fs = select_features(X_train, y_train, X_test)\n",
    "# fit the model\n",
    "model = LogisticRegression(solver='liblinear')\n",
    "model.fit(X_train_fs, y_train)\n",
    "# evaluate the model\n",
    "yhat = model.predict(X_test_fs)\n",
    "# evaluate predictions\n",
    "accuracy = accuracy_score(y_test, yhat)\n",
    "print('Accuracy: %.2f' % (accuracy*100))"
   ]
  },
  {
   "cell_type": "markdown",
   "id": "7a6a9a9a-3358-4c58-a22b-674e20a0bc8c",
   "metadata": {},
   "source": [
    "#### Tuning the Number of Selected Features"
   ]
  },
  {
   "cell_type": "code",
   "execution_count": 12,
   "id": "edfffd7b-fa17-466e-9adc-4717c2a06202",
   "metadata": {},
   "outputs": [
    {
     "name": "stdout",
     "output_type": "stream",
     "text": [
      "Best Mean Accuracy: 0.770\n",
      "Best Config: {'anova__k': 7}\n"
     ]
    }
   ],
   "source": [
    "import pandas as pd\n",
    "from sklearn.model_selection import RepeatedStratifiedKFold\n",
    "from sklearn.model_selection import GridSearchCV\n",
    "from sklearn.linear_model import LogisticRegression\n",
    "from sklearn.pipeline import Pipeline\n",
    "from sklearn.feature_selection import SelectKBest\n",
    "from sklearn.feature_selection import f_classif\n",
    "\n",
    "def load_dataset(file):\n",
    "    df = pd.read_csv(file, header= None)\n",
    "    data = df.values\n",
    "    X = data[:, :-1]\n",
    "    y = data[:, -1]\n",
    "    return X, y\n",
    "\n",
    "url = 'https://raw.githubusercontent.com/jbrownlee/Datasets/master/pima-indians-diabetes.csv'\n",
    "X, y = load_dataset(url)\n",
    "#\n",
    "cv = RepeatedStratifiedKFold(n_splits = 10, n_repeats = 3, random_state= 1)\n",
    "#\n",
    "model = LogisticRegression(solver='liblinear')\n",
    "fs = SelectKBest(score_func=f_classif)\n",
    "pipeline = Pipeline(steps=[('anova',fs), ('lr', model)])\n",
    "# define the grid\n",
    "grid = dict()\n",
    "grid['anova__k'] = [i+1 for i in range(X.shape[1])]\n",
    "# define the grid search\n",
    "search = GridSearchCV(pipeline, grid, scoring='accuracy', n_jobs=-1, cv=cv)\n",
    "# perform the search\n",
    "results = search.fit(X, y)\n",
    "# summarize best\n",
    "print('Best Mean Accuracy: %.3f' % results.best_score_)\n",
    "print('Best Config: %s' % results.best_params_)"
   ]
  },
  {
   "cell_type": "code",
   "execution_count": 13,
   "id": "86a32078-d666-4c15-a0cb-ce00606eb176",
   "metadata": {},
   "outputs": [
    {
     "name": "stdout",
     "output_type": "stream",
     "text": [
      "1 features: Mean Accuracy=0.748, Std=0.048\n",
      "2 features: Mean Accuracy=0.756, Std=0.042\n",
      "3 features: Mean Accuracy=0.761, Std=0.044\n",
      "4 features: Mean Accuracy=0.759, Std=0.042\n",
      "5 features: Mean Accuracy=0.770, Std=0.041\n",
      "6 features: Mean Accuracy=0.766, Std=0.042\n",
      "7 features: Mean Accuracy=0.770, Std=0.042\n",
      "8 features: Mean Accuracy=0.768, Std=0.040\n"
     ]
    },
    {
     "data": {
      "image/png": "[encoded data removed]",
      "text/plain": [
       "<Figure size 640x480 with 1 Axes>"
      ]
     },
     "metadata": {},
     "output_type": "display_data"
    }
   ],
   "source": [
    "import numpy as np\n",
    "import pandas as pd\n",
    "import matplotlib.pyplot as pyplt\n",
    "from sklearn.model_selection import RepeatedStratifiedKFold, cross_val_score\n",
    "from sklearn.pipeline import Pipeline\n",
    "from sklearn.linear_model import LogisticRegression\n",
    "from sklearn.feature_selection import SelectKBest, f_classif\n",
    "from numpy import mean, std\n",
    "\n",
    "# load the dataset\n",
    "def load_dataset(filename):\n",
    "    data = pd.read_csv(filename, header=None)\n",
    "    dataset = data.values\n",
    "    X = dataset[:, :-1]\n",
    "    y = dataset[:, -1]\n",
    "    return X, y\n",
    "\n",
    "# evaluate a given model using cross-validation\n",
    "def evaluate_model(model, X, y):\n",
    "    cv = RepeatedStratifiedKFold(n_splits=10, n_repeats=3, random_state=1)\n",
    "    scores = cross_val_score(model, X, y, scoring='accuracy', cv=cv, n_jobs=-1)\n",
    "    return scores\n",
    "\n",
    "# define dataset\n",
    "url = 'https://raw.githubusercontent.com/jbrownlee/Datasets/master/pima-indians-diabetes.csv'\n",
    "X, y = load_dataset(url)\n",
    "\n",
    "# define number of features to evaluate\n",
    "num_features = [i+1 for i in range(X.shape[1])]\n",
    "\n",
    "# enumerate each number of features\n",
    "results = list()\n",
    "for k in num_features:\n",
    "    model = LogisticRegression(solver='liblinear')\n",
    "    fs = SelectKBest(score_func=f_classif, k=k)\n",
    "    pipeline = Pipeline(steps=[('anova', fs), ('lr', model)])\n",
    "    scores = evaluate_model(pipeline, X, y)\n",
    "    results.append(scores)\n",
    "    print(f'{k} features: Mean Accuracy={mean(scores):.3f}, Std={std(scores):.3f}')\n",
    "\n",
    "# plot model performance for comparison\n",
    "pyplt.boxplot(results, tick_labels=num_features, showmeans=True)\n",
    "pyplt.xlabel('Number of Features')\n",
    "pyplt.ylabel('Accuracy')\n",
    "pyplt.title('Model Accuracy by Number of Features')\n",
    "pyplt.show()"
   ]
  }
 ],
 "metadata": {
  "kernelspec": {
   "display_name": "Python 3 (ipykernel)",
   "language": "python",
   "name": "python3"
  },
  "language_info": {
   "codemirror_mode": {
    "name": "ipython",
    "version": 3
   },
   "file_extension": ".py",
   "mimetype": "text/x-python",
   "name": "python",
   "nbconvert_exporter": "python",
   "pygments_lexer": "ipython3",
   "version": "3.12.4"
  }
 },
 "nbformat": 4,
 "nbformat_minor": 5
}
