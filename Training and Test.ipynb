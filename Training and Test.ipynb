{
 "cells": [
  {
   "cell_type": "markdown",
   "id": "0a0b1c88-5612-43c1-ae21-29e50d96a6dc",
   "metadata": {},
   "source": [
    "## Data Preparation with Train and Test Sets\n",
    "We will use logistic regression to understand difference between the Naive and correct way of data preparation with the help of synthetic binary classification dataset."
   ]
  },
  {
   "cell_type": "code",
   "execution_count": null,
   "id": "84f3e415-57a6-46ff-9b72-8b4c174863e4",
   "metadata": {},
   "outputs": [],
   "source": [
    "#Frist we will import all of the modules needed form the scikit learn package.\n",
    "from sklearn.datasets import make_classification\n",
    "from sklearn.model_selection import train_test_split\n",
    "from sklearn.preprocessing import MinMaxScaler\n",
    "from sklearn.linear_model import LogisticRegression\n",
    "from sklearn.metrics import accuracy_score \n",
    "\n",
    "# Now we will define the random data set that we are gonna generate.\n",
    "X, y = make_classification(n_samples=1000, n_features= 20 , n_informative =15, n_redundant = 5, random_state = 7)\n",
    "\n",
    "# For the example of the naive approach we will standardize the whole data set befor splitting it into the train and test dataset.\n",
    "scaler = MinMaxScaler()\n",
    "X = scaler.fit_transform(X)\n",
    "\n",
    "# Now after the Normilization of the dataset we will split the data into train and test dataset.\n",
    "X_train, X_test, y_train, y_test = train_test_split(X, y, test_size = 0.33, random_state = 1)\n",
    "\n",
    "# We will fit the data into the model.\n",
    "model = LogisticRegression()\n",
    "model.fit(X_train, y_train)\n",
    "#On the basis of this training we will predict the values for the test dataset.\n",
    "pred = model.predict(X_test)\n",
    "# At last we will evaluate the predictions.\n",
    "accuracy = accuracy_score(y_test, pred)\n",
    "print('Accuracy: %.3f' % (accuracy*100))"
   ]
  },
  {
   "cell_type": "markdown",
   "id": "d8d2fb78-4426-4551-9e99-37ba670fcb74",
   "metadata": {},
   "source": [
    "## Train-Test Evaluation with correct Data Preparation\n",
    "The correct approach to performing data preparatioin with a train test split evaluation is to fit the data preapration on the training set, then apply the transform to the train and test sets. This requires that we frist split the data into train and test sets."
   ]
  },
  {
   "cell_type": "code",
   "execution_count": null,
   "id": "12a3ee0b-d61e-44ab-885a-4231e30bd185",
   "metadata": {},
   "outputs": [],
   "source": [
    "#Import all the needed models\n",
    "from sklearn.datasets import make_classification\n",
    "from sklearn.model_selection import train_test_split\n",
    "from sklearn.preprocessing import MinMaxScaler\n",
    "from sklearn.linear_model import LogisticRegression\n",
    "from sklearn.metrics import accuracy_score\n",
    "# Generate the dataset\n",
    "X, y = make_classification(n_samples = 1000, n_features= 20, n_informative = 15, n_redundant= 5, random_state= 7)\n",
    "#We will split it into train and test datasets\n",
    "X_train, X_test, y_train, y_test = train_test_split(X, y, test_size =0.33, random_state= 1)\n",
    "#Now define the scaler\n",
    "scaler = MinMaxScaler()\n",
    "scaler.fit(X_train)\n",
    "X_train = scaler.transform(X_train)\n",
    "# Scale the test data set\n",
    "X_test = scaler.transform(X_test)\n",
    "# now fir the model in the logitic regression\n",
    "model = LogisticRegression()\n",
    "model.fit(X_train, y_train)\n",
    "#Evaluate the model\n",
    "pred=model.predict(X_test)\n",
    "accuracy = accuracy_score(y_test, pred)\n",
    "print('Accuracy: %.3f'% (accuracy*100))"
   ]
  }
 ],
 "metadata": {
  "kernelspec": {
   "display_name": "Python 3 (ipykernel)",
   "language": "python",
   "name": "python3"
  },
  "language_info": {
   "codemirror_mode": {
    "name": "ipython",
    "version": 3
   },
   "file_extension": ".py",
   "mimetype": "text/x-python",
   "name": "python",
   "nbconvert_exporter": "python",
   "pygments_lexer": "ipython3",
   "version": "3.12.4"
  }
 },
 "nbformat": 4,
 "nbformat_minor": 5
}
